{
 "cells": [
  {
   "cell_type": "markdown",
   "metadata": {},
   "source": [
    "# Метод Галеркина"
   ]
  },
  {
   "cell_type": "code",
   "execution_count": 1,
   "metadata": {},
   "outputs": [],
   "source": [
    "import numpy as np\n",
    "import sympy as sp"
   ]
  },
  {
   "cell_type": "code",
   "execution_count": 2,
   "metadata": {},
   "outputs": [],
   "source": [
    "x = np.linspace(0, 1, 1000)\n",
    "N = 2 # Кол-во базисных функций. Указываем начальное значение"
   ]
  },
  {
   "cell_type": "code",
   "execution_count": null,
   "metadata": {},
   "outputs": [],
   "source": [
    "def galerkin_method(tol=1e-6, init_N=2, max_N=10):\n",
    "    x = sp.Symbol('x')\n",
    "    prev_residual = None\n",
    "    \n",
    "    for N in range(init_N, max_N + 1):\n",
    "        phi = [x * (1 - x**i) for i in range(1, N+1)]\n",
    "        c = sp.symbols(f'c1:{N+1}')\n",
    "        u_N = sum(c[i] * phi[i] for i in range(N))\n",
    "        \n",
    "        residual = sp.diff(u_N, x, x) + u_N + x\n",
    "        system = [sp.integrate(residual * phi[j], (x, 0, 1)) for j in range(N)]\n",
    "        solution = sp.solve(system, c)\n",
    "        \n",
    "        if solution:\n",
    "            u_N_solution = u_N.subs(solution)\n",
    "            residual_value = max(abs(sp.simplify(residual.subs(solution)).evalf()))\n",
    "            \n",
    "            if prev_residual is not None and abs(prev_residual - residual_value) < tol:\n",
    "                return u_N_solution, N\n",
    "            \n",
    "            prev_residual = residual_value\n",
    "    \n",
    "    return u_N_solution"
   ]
  },
  {
   "cell_type": "code",
   "execution_count": null,
   "metadata": {},
   "outputs": [],
   "source": [
    "approximated_solution = galerkin_method(init_N=N)"
   ]
  },
  {
   "cell_type": "code",
   "execution_count": null,
   "metadata": {},
   "outputs": [],
   "source": [
    "solution = (np.sin(x) / np.cos(1)) - x"
   ]
  }
 ],
 "metadata": {
  "kernelspec": {
   "display_name": "Python 3 (ipykernel)",
   "language": "python",
   "name": "python3"
  },
  "language_info": {
   "codemirror_mode": {
    "name": "ipython",
    "version": 3
   },
   "file_extension": ".py",
   "mimetype": "text/x-python",
   "name": "python",
   "nbconvert_exporter": "python",
   "pygments_lexer": "ipython3",
   "version": "3.13.1"
  }
 },
 "nbformat": 4,
 "nbformat_minor": 4
}
